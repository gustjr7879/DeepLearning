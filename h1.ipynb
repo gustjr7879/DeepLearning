{
 "cells": [
  {
   "cell_type": "markdown",
   "metadata": {},
   "source": [
    "### Hugging Face\n",
    "허깅페이스는 머신러닝 기술(딥러닝)의 손쉬운 배포, 사용, 훈련을 가능하게 해준다.    \n",
    "기존의 성능이 검증된 pretrained 모델들을 쉽게 이용해볼 수 있고 파인튜닝까지 가능하다.     \n",
    "또 직접 만들어서 배포 또한 가능하다.     \n",
    "과거에 여러번 써봤지만 정리해두면 편할 것 같아서 정리한다."
   ]
  },
  {
   "cell_type": "code",
   "execution_count": null,
   "metadata": {},
   "outputs": [],
   "source": [
    "# pre-trained model사용하기\n",
    "# 허깅페이스는 transformers라는 패키지를 통해서 transformer류 모델을 쉽게 사용할 수 있다. \n",
    "\n"
   ]
  },
  {
   "cell_type": "code",
   "execution_count": null,
   "metadata": {},
   "outputs": [],
   "source": [
    "#재미있어 보이는 것을 사용해보자 나는 text to image를 해본다.\n",
    "#역시 stable diffusion을 써볼거고 xl-base를 사용해본다.\n",
    "#기본 모델로 latent representation을 생성하고 이를 refiner 모델이 노이즈를 제거해서 이미지로 만들어진다.\n",
    "#기본 모델은 독립형 모듈로 사용될 수 있다고 한다.\n",
    "#SDEdit으로(refiner모델 부분) 기본 모델로 만든 latent를 고해상도로 만든다. (img2img 논문)\n",
    "#이 과정에서 프롬프트와 함께 들어가서 복원한다. 오래걸린다. "
   ]
  },
  {
   "cell_type": "code",
   "execution_count": 1,
   "metadata": {},
   "outputs": [
    {
     "data": {
      "application/vnd.jupyter.widget-view+json": {
       "model_id": "9c898c2b29a4492587f1dde8781d895d",
       "version_major": 2,
       "version_minor": 0
      },
      "text/plain": [
       "Loading pipeline components...:   0%|          | 0/7 [00:00<?, ?it/s]"
      ]
     },
     "metadata": {},
     "output_type": "display_data"
    }
   ],
   "source": [
    "from diffusers import DiffusionPipeline\n",
    "import torch\n",
    "\n",
    "pipe = DiffusionPipeline.from_pretrained(\"stabilityai/stable-diffusion-xl-base-1.0\", torch_dtype=torch.float32,use_safetensors=True,  variant=\"fp16\")\n",
    "#인자로 어떤 모델을 가져올 것인지, data type을 뭘로 설정해줄 것인지 등을 설정한다."
   ]
  },
  {
   "cell_type": "code",
   "execution_count": null,
   "metadata": {},
   "outputs": [],
   "source": [
    "#pipe.to('cuda')"
   ]
  },
  {
   "cell_type": "code",
   "execution_count": 2,
   "metadata": {},
   "outputs": [
    {
     "data": {
      "application/vnd.jupyter.widget-view+json": {
       "model_id": "f411e5bb775047a3a49175c10b9e46e6",
       "version_major": 2,
       "version_minor": 0
      },
      "text/plain": [
       "  0%|          | 0/1 [00:00<?, ?it/s]"
      ]
     },
     "metadata": {},
     "output_type": "display_data"
    }
   ],
   "source": [
    "prompt = \"runner\"\n",
    "\n",
    "image = pipe(prompt = prompt, num_inference_steps = 1).images[0]"
   ]
  },
  {
   "cell_type": "code",
   "execution_count": 3,
   "metadata": {},
   "outputs": [],
   "source": [
    "image.show()"
   ]
  }
 ],
 "metadata": {
  "kernelspec": {
   "display_name": "base",
   "language": "python",
   "name": "python3"
  },
  "language_info": {
   "codemirror_mode": {
    "name": "ipython",
    "version": 3
   },
   "file_extension": ".py",
   "mimetype": "text/x-python",
   "name": "python",
   "nbconvert_exporter": "python",
   "pygments_lexer": "ipython3",
   "version": "3.9.13"
  }
 },
 "nbformat": 4,
 "nbformat_minor": 2
}
